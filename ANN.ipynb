{
  "nbformat": 4,
  "nbformat_minor": 0,
  "metadata": {
    "colab": {
      "provenance": []
    },
    "kernelspec": {
      "name": "python3",
      "display_name": "Python 3"
    },
    "language_info": {
      "name": "python"
    }
  },
  "cells": [
    {
      "cell_type": "code",
      "execution_count": 1,
      "metadata": {
        "colab": {
          "base_uri": "https://localhost:8080/"
        },
        "id": "y73oAJrUCKIY",
        "outputId": "9d3cd3a9-3242-4736-ea30-6c295dfcfaae"
      },
      "outputs": [
        {
          "output_type": "stream",
          "name": "stdout",
          "text": [
            "Downloading data from https://storage.googleapis.com/tensorflow/tf-keras-datasets/mnist.npz\n",
            "11490434/11490434 [==============================] - 0s 0us/step\n"
          ]
        }
      ],
      "source": [
        "from keras.datasets import mnist\n",
        "(train_images, train_labels), (test_images, test_labels) = mnist.load_data()"
      ]
    },
    {
      "cell_type": "code",
      "source": [
        "train_images.shape\n",
        "len(train_labels)\n",
        "train_labels\n",
        "test_images.shape\n",
        "len(test_labels)\n",
        "test_labels"
      ],
      "metadata": {
        "colab": {
          "base_uri": "https://localhost:8080/"
        },
        "id": "A4cuETXgCcbK",
        "outputId": "9128232a-cad0-4591-c320-244994877296"
      },
      "execution_count": 2,
      "outputs": [
        {
          "output_type": "execute_result",
          "data": {
            "text/plain": [
              "array([7, 2, 1, ..., 4, 5, 6], dtype=uint8)"
            ]
          },
          "metadata": {},
          "execution_count": 2
        }
      ]
    },
    {
      "cell_type": "code",
      "source": [
        "from keras import models\n",
        "from keras import layers\n",
        "network = models.Sequential()\n",
        "# Dense(32) is a fully-connected layer with 32 hidden units.\n",
        "# in the first layer, you must specify the expected input data shape :\n",
        "# here, 28 X 28=784 -dimensional vectors.\n",
        "network.add(layers.Dense(32, activation='sigmoid', input_shape=(28 * 28, )))\n",
        "network.add(layers.Dense(8, activation='sigmoid'))\n",
        "network.add(layers.Dense(10, activation='softmax'))\n",
        "network.summary()\n",
        "from google.colab import drive\n",
        "drive.mount('/content/drive')"
      ],
      "metadata": {
        "colab": {
          "base_uri": "https://localhost:8080/"
        },
        "id": "ahwyGaoIChN0",
        "outputId": "e586d639-7fcd-44e2-9722-ff7912168395"
      },
      "execution_count": 7,
      "outputs": [
        {
          "output_type": "stream",
          "name": "stdout",
          "text": [
            "Model: \"sequential_4\"\n",
            "_________________________________________________________________\n",
            " Layer (type)                Output Shape              Param #   \n",
            "=================================================================\n",
            " dense_12 (Dense)            (None, 32)                25120     \n",
            "                                                                 \n",
            " dense_13 (Dense)            (None, 8)                 264       \n",
            "                                                                 \n",
            " dense_14 (Dense)            (None, 10)                90        \n",
            "                                                                 \n",
            "=================================================================\n",
            "Total params: 25474 (99.51 KB)\n",
            "Trainable params: 25474 (99.51 KB)\n",
            "Non-trainable params: 0 (0.00 Byte)\n",
            "_________________________________________________________________\n",
            "Mounted at /content/drive\n"
          ]
        }
      ]
    },
    {
      "cell_type": "code",
      "source": [
        "network.compile(optimizer='sgd',\n",
        "                loss='categorical_crossentropy',\n",
        "                metrics=['accuracy'])"
      ],
      "metadata": {
        "id": "uLITomi4Dt1c"
      },
      "execution_count": 8,
      "outputs": []
    },
    {
      "cell_type": "code",
      "source": [
        "train_images = train_images.reshape((60000, 28 * 28))\n",
        "train_images = train_images.astype('float32') / 255.\n",
        "test_images = test_images.reshape((10000, 28 * 28))\n",
        "test_images = test_images.astype('float32') / 255."
      ],
      "metadata": {
        "id": "Su6U5Lj7DzAg"
      },
      "execution_count": 9,
      "outputs": []
    },
    {
      "cell_type": "code",
      "source": [
        "from keras.utils import to_categorical\n",
        "train_labels = to_categorical(train_labels)\n",
        "train_labels\n",
        "test_labels = to_categorical(test_labels)\n",
        "test_labels"
      ],
      "metadata": {
        "colab": {
          "base_uri": "https://localhost:8080/"
        },
        "id": "GOgakEgMD2X0",
        "outputId": "7bc518da-5b53-44bf-a29f-8efcf6672a9b"
      },
      "execution_count": 10,
      "outputs": [
        {
          "output_type": "execute_result",
          "data": {
            "text/plain": [
              "array([[0., 0., 0., ..., 1., 0., 0.],\n",
              "       [0., 0., 1., ..., 0., 0., 0.],\n",
              "       [0., 1., 0., ..., 0., 0., 0.],\n",
              "       ...,\n",
              "       [0., 0., 0., ..., 0., 0., 0.],\n",
              "       [0., 0., 0., ..., 0., 0., 0.],\n",
              "       [0., 0., 0., ..., 0., 0., 0.]], dtype=float32)"
            ]
          },
          "metadata": {},
          "execution_count": 10
        }
      ]
    },
    {
      "cell_type": "code",
      "source": [
        "network.fit(train_images, train_labels, epochs=160, batch_size=512)"
      ],
      "metadata": {
        "colab": {
          "base_uri": "https://localhost:8080/"
        },
        "id": "NuO640OFD8an",
        "outputId": "e48243e8-3d91-4395-d178-0cba52d9b68a"
      },
      "execution_count": 11,
      "outputs": [
        {
          "output_type": "stream",
          "name": "stdout",
          "text": [
            "Epoch 1/160\n",
            "118/118 [==============================] - 1s 5ms/step - loss: 2.3652 - accuracy: 0.1337\n",
            "Epoch 2/160\n",
            "118/118 [==============================] - 1s 5ms/step - loss: 2.3246 - accuracy: 0.1521\n",
            "Epoch 3/160\n",
            "118/118 [==============================] - 1s 4ms/step - loss: 2.3044 - accuracy: 0.1468\n",
            "Epoch 4/160\n",
            "118/118 [==============================] - 1s 6ms/step - loss: 2.2932 - accuracy: 0.1843\n",
            "Epoch 5/160\n",
            "118/118 [==============================] - 1s 7ms/step - loss: 2.2862 - accuracy: 0.1952\n",
            "Epoch 6/160\n",
            "118/118 [==============================] - 1s 7ms/step - loss: 2.2810 - accuracy: 0.1768\n",
            "Epoch 7/160\n",
            "118/118 [==============================] - 1s 7ms/step - loss: 2.2766 - accuracy: 0.1770\n",
            "Epoch 8/160\n",
            "118/118 [==============================] - 1s 7ms/step - loss: 2.2725 - accuracy: 0.1778\n",
            "Epoch 9/160\n",
            "118/118 [==============================] - 1s 5ms/step - loss: 2.2683 - accuracy: 0.1781\n",
            "Epoch 10/160\n",
            "118/118 [==============================] - 1s 5ms/step - loss: 2.2640 - accuracy: 0.1897\n",
            "Epoch 11/160\n",
            "118/118 [==============================] - 1s 5ms/step - loss: 2.2595 - accuracy: 0.1983\n",
            "Epoch 12/160\n",
            "118/118 [==============================] - 1s 5ms/step - loss: 2.2547 - accuracy: 0.2075\n",
            "Epoch 13/160\n",
            "118/118 [==============================] - 1s 5ms/step - loss: 2.2497 - accuracy: 0.2129\n",
            "Epoch 14/160\n",
            "118/118 [==============================] - 1s 4ms/step - loss: 2.2443 - accuracy: 0.2208\n",
            "Epoch 15/160\n",
            "118/118 [==============================] - 1s 4ms/step - loss: 2.2386 - accuracy: 0.2354\n",
            "Epoch 16/160\n",
            "118/118 [==============================] - 1s 5ms/step - loss: 2.2325 - accuracy: 0.2470\n",
            "Epoch 17/160\n",
            "118/118 [==============================] - 1s 5ms/step - loss: 2.2260 - accuracy: 0.2608\n",
            "Epoch 18/160\n",
            "118/118 [==============================] - 1s 5ms/step - loss: 2.2191 - accuracy: 0.2761\n",
            "Epoch 19/160\n",
            "118/118 [==============================] - 1s 5ms/step - loss: 2.2117 - accuracy: 0.3000\n",
            "Epoch 20/160\n",
            "118/118 [==============================] - 1s 5ms/step - loss: 2.2037 - accuracy: 0.3194\n",
            "Epoch 21/160\n",
            "118/118 [==============================] - 1s 5ms/step - loss: 2.1952 - accuracy: 0.3327\n",
            "Epoch 22/160\n",
            "118/118 [==============================] - 1s 5ms/step - loss: 2.1862 - accuracy: 0.3548\n",
            "Epoch 23/160\n",
            "118/118 [==============================] - 1s 5ms/step - loss: 2.1765 - accuracy: 0.3684\n",
            "Epoch 24/160\n",
            "118/118 [==============================] - 1s 5ms/step - loss: 2.1663 - accuracy: 0.3776\n",
            "Epoch 25/160\n",
            "118/118 [==============================] - 1s 5ms/step - loss: 2.1553 - accuracy: 0.3981\n",
            "Epoch 26/160\n",
            "118/118 [==============================] - 1s 5ms/step - loss: 2.1436 - accuracy: 0.4093\n",
            "Epoch 27/160\n",
            "118/118 [==============================] - 1s 6ms/step - loss: 2.1313 - accuracy: 0.4196\n",
            "Epoch 28/160\n",
            "118/118 [==============================] - 1s 6ms/step - loss: 2.1182 - accuracy: 0.4292\n",
            "Epoch 29/160\n",
            "118/118 [==============================] - 1s 7ms/step - loss: 2.1045 - accuracy: 0.4409\n",
            "Epoch 30/160\n",
            "118/118 [==============================] - 1s 8ms/step - loss: 2.0900 - accuracy: 0.4496\n",
            "Epoch 31/160\n",
            "118/118 [==============================] - 1s 8ms/step - loss: 2.0748 - accuracy: 0.4533\n",
            "Epoch 32/160\n",
            "118/118 [==============================] - 1s 6ms/step - loss: 2.0589 - accuracy: 0.4570\n",
            "Epoch 33/160\n",
            "118/118 [==============================] - 1s 5ms/step - loss: 2.0424 - accuracy: 0.4679\n",
            "Epoch 34/160\n",
            "118/118 [==============================] - 1s 5ms/step - loss: 2.0252 - accuracy: 0.4701\n",
            "Epoch 35/160\n",
            "118/118 [==============================] - 1s 5ms/step - loss: 2.0074 - accuracy: 0.4783\n",
            "Epoch 36/160\n",
            "118/118 [==============================] - 1s 5ms/step - loss: 1.9891 - accuracy: 0.4802\n",
            "Epoch 37/160\n",
            "118/118 [==============================] - 1s 5ms/step - loss: 1.9704 - accuracy: 0.4866\n",
            "Epoch 38/160\n",
            "118/118 [==============================] - 1s 5ms/step - loss: 1.9512 - accuracy: 0.4911\n",
            "Epoch 39/160\n",
            "118/118 [==============================] - 1s 5ms/step - loss: 1.9316 - accuracy: 0.4982\n",
            "Epoch 40/160\n",
            "118/118 [==============================] - 1s 5ms/step - loss: 1.9117 - accuracy: 0.5016\n",
            "Epoch 41/160\n",
            "118/118 [==============================] - 1s 5ms/step - loss: 1.8915 - accuracy: 0.5061\n",
            "Epoch 42/160\n",
            "118/118 [==============================] - 1s 5ms/step - loss: 1.8711 - accuracy: 0.5113\n",
            "Epoch 43/160\n",
            "118/118 [==============================] - 1s 5ms/step - loss: 1.8506 - accuracy: 0.5168\n",
            "Epoch 44/160\n",
            "118/118 [==============================] - 1s 4ms/step - loss: 1.8300 - accuracy: 0.5217\n",
            "Epoch 45/160\n",
            "118/118 [==============================] - 1s 5ms/step - loss: 1.8093 - accuracy: 0.5266\n",
            "Epoch 46/160\n",
            "118/118 [==============================] - 1s 5ms/step - loss: 1.7885 - accuracy: 0.5319\n",
            "Epoch 47/160\n",
            "118/118 [==============================] - 1s 5ms/step - loss: 1.7677 - accuracy: 0.5356\n",
            "Epoch 48/160\n",
            "118/118 [==============================] - 1s 5ms/step - loss: 1.7470 - accuracy: 0.5420\n",
            "Epoch 49/160\n",
            "118/118 [==============================] - 1s 5ms/step - loss: 1.7263 - accuracy: 0.5463\n",
            "Epoch 50/160\n",
            "118/118 [==============================] - 1s 7ms/step - loss: 1.7056 - accuracy: 0.5523\n",
            "Epoch 51/160\n",
            "118/118 [==============================] - 1s 7ms/step - loss: 1.6851 - accuracy: 0.5567\n",
            "Epoch 52/160\n",
            "118/118 [==============================] - 1s 7ms/step - loss: 1.6646 - accuracy: 0.5627\n",
            "Epoch 53/160\n",
            "118/118 [==============================] - 1s 7ms/step - loss: 1.6443 - accuracy: 0.5679\n",
            "Epoch 54/160\n",
            "118/118 [==============================] - 1s 7ms/step - loss: 1.6242 - accuracy: 0.5725\n",
            "Epoch 55/160\n",
            "118/118 [==============================] - 1s 5ms/step - loss: 1.6042 - accuracy: 0.5782\n",
            "Epoch 56/160\n",
            "118/118 [==============================] - 1s 4ms/step - loss: 1.5845 - accuracy: 0.5842\n",
            "Epoch 57/160\n",
            "118/118 [==============================] - 1s 4ms/step - loss: 1.5649 - accuracy: 0.5888\n",
            "Epoch 58/160\n",
            "118/118 [==============================] - 1s 5ms/step - loss: 1.5456 - accuracy: 0.5940\n",
            "Epoch 59/160\n",
            "118/118 [==============================] - 1s 5ms/step - loss: 1.5265 - accuracy: 0.5997\n",
            "Epoch 60/160\n",
            "118/118 [==============================] - 1s 5ms/step - loss: 1.5077 - accuracy: 0.6041\n",
            "Epoch 61/160\n",
            "118/118 [==============================] - 1s 5ms/step - loss: 1.4892 - accuracy: 0.6093\n",
            "Epoch 62/160\n",
            "118/118 [==============================] - 1s 5ms/step - loss: 1.4709 - accuracy: 0.6139\n",
            "Epoch 63/160\n",
            "118/118 [==============================] - 1s 5ms/step - loss: 1.4529 - accuracy: 0.6191\n",
            "Epoch 64/160\n",
            "118/118 [==============================] - 1s 4ms/step - loss: 1.4353 - accuracy: 0.6236\n",
            "Epoch 65/160\n",
            "118/118 [==============================] - 1s 5ms/step - loss: 1.4179 - accuracy: 0.6295\n",
            "Epoch 66/160\n",
            "118/118 [==============================] - 1s 4ms/step - loss: 1.4009 - accuracy: 0.6339\n",
            "Epoch 67/160\n",
            "118/118 [==============================] - 1s 5ms/step - loss: 1.3842 - accuracy: 0.6388\n",
            "Epoch 68/160\n",
            "118/118 [==============================] - 1s 5ms/step - loss: 1.3678 - accuracy: 0.6428\n",
            "Epoch 69/160\n",
            "118/118 [==============================] - 1s 5ms/step - loss: 1.3518 - accuracy: 0.6484\n",
            "Epoch 70/160\n",
            "118/118 [==============================] - 1s 5ms/step - loss: 1.3360 - accuracy: 0.6529\n",
            "Epoch 71/160\n",
            "118/118 [==============================] - 1s 6ms/step - loss: 1.3207 - accuracy: 0.6588\n",
            "Epoch 72/160\n",
            "118/118 [==============================] - 1s 7ms/step - loss: 1.3056 - accuracy: 0.6643\n",
            "Epoch 73/160\n",
            "118/118 [==============================] - 1s 12ms/step - loss: 1.2909 - accuracy: 0.6693\n",
            "Epoch 74/160\n",
            "118/118 [==============================] - 1s 12ms/step - loss: 1.2765 - accuracy: 0.6745\n",
            "Epoch 75/160\n",
            "118/118 [==============================] - 1s 7ms/step - loss: 1.2624 - accuracy: 0.6798\n",
            "Epoch 76/160\n",
            "118/118 [==============================] - 1s 5ms/step - loss: 1.2486 - accuracy: 0.6849\n",
            "Epoch 77/160\n",
            "118/118 [==============================] - 1s 5ms/step - loss: 1.2352 - accuracy: 0.6892\n",
            "Epoch 78/160\n",
            "118/118 [==============================] - 1s 5ms/step - loss: 1.2221 - accuracy: 0.6938\n",
            "Epoch 79/160\n",
            "118/118 [==============================] - 1s 5ms/step - loss: 1.2093 - accuracy: 0.6978\n",
            "Epoch 80/160\n",
            "118/118 [==============================] - 1s 4ms/step - loss: 1.1967 - accuracy: 0.7024\n",
            "Epoch 81/160\n",
            "118/118 [==============================] - 1s 5ms/step - loss: 1.1845 - accuracy: 0.7063\n",
            "Epoch 82/160\n",
            "118/118 [==============================] - 1s 5ms/step - loss: 1.1725 - accuracy: 0.7110\n",
            "Epoch 83/160\n",
            "118/118 [==============================] - 1s 5ms/step - loss: 1.1609 - accuracy: 0.7153\n",
            "Epoch 84/160\n",
            "118/118 [==============================] - 1s 5ms/step - loss: 1.1495 - accuracy: 0.7184\n",
            "Epoch 85/160\n",
            "118/118 [==============================] - 1s 4ms/step - loss: 1.1383 - accuracy: 0.7216\n",
            "Epoch 86/160\n",
            "118/118 [==============================] - 1s 4ms/step - loss: 1.1274 - accuracy: 0.7254\n",
            "Epoch 87/160\n",
            "118/118 [==============================] - 1s 5ms/step - loss: 1.1168 - accuracy: 0.7290\n",
            "Epoch 88/160\n",
            "118/118 [==============================] - 1s 5ms/step - loss: 1.1064 - accuracy: 0.7317\n",
            "Epoch 89/160\n",
            "118/118 [==============================] - 1s 5ms/step - loss: 1.0962 - accuracy: 0.7352\n",
            "Epoch 90/160\n",
            "118/118 [==============================] - 1s 5ms/step - loss: 1.0862 - accuracy: 0.7379\n",
            "Epoch 91/160\n",
            "118/118 [==============================] - 1s 4ms/step - loss: 1.0765 - accuracy: 0.7404\n",
            "Epoch 92/160\n",
            "118/118 [==============================] - 1s 5ms/step - loss: 1.0670 - accuracy: 0.7429\n",
            "Epoch 93/160\n",
            "118/118 [==============================] - 1s 5ms/step - loss: 1.0576 - accuracy: 0.7454\n",
            "Epoch 94/160\n",
            "118/118 [==============================] - 1s 6ms/step - loss: 1.0485 - accuracy: 0.7482\n",
            "Epoch 95/160\n",
            "118/118 [==============================] - 1s 7ms/step - loss: 1.0395 - accuracy: 0.7505\n",
            "Epoch 96/160\n",
            "118/118 [==============================] - 1s 7ms/step - loss: 1.0308 - accuracy: 0.7531\n",
            "Epoch 97/160\n",
            "118/118 [==============================] - 1s 7ms/step - loss: 1.0222 - accuracy: 0.7551\n",
            "Epoch 98/160\n",
            "118/118 [==============================] - 1s 7ms/step - loss: 1.0137 - accuracy: 0.7578\n",
            "Epoch 99/160\n",
            "118/118 [==============================] - 1s 6ms/step - loss: 1.0055 - accuracy: 0.7598\n",
            "Epoch 100/160\n",
            "118/118 [==============================] - 1s 5ms/step - loss: 0.9974 - accuracy: 0.7619\n",
            "Epoch 101/160\n",
            "118/118 [==============================] - 1s 5ms/step - loss: 0.9894 - accuracy: 0.7640\n",
            "Epoch 102/160\n",
            "118/118 [==============================] - 1s 5ms/step - loss: 0.9816 - accuracy: 0.7658\n",
            "Epoch 103/160\n",
            "118/118 [==============================] - 1s 5ms/step - loss: 0.9739 - accuracy: 0.7685\n",
            "Epoch 104/160\n",
            "118/118 [==============================] - 1s 4ms/step - loss: 0.9663 - accuracy: 0.7703\n",
            "Epoch 105/160\n",
            "118/118 [==============================] - 1s 5ms/step - loss: 0.9589 - accuracy: 0.7724\n",
            "Epoch 106/160\n",
            "118/118 [==============================] - 1s 5ms/step - loss: 0.9516 - accuracy: 0.7741\n",
            "Epoch 107/160\n",
            "118/118 [==============================] - 1s 5ms/step - loss: 0.9444 - accuracy: 0.7756\n",
            "Epoch 108/160\n",
            "118/118 [==============================] - 1s 5ms/step - loss: 0.9373 - accuracy: 0.7774\n",
            "Epoch 109/160\n",
            "118/118 [==============================] - 1s 5ms/step - loss: 0.9303 - accuracy: 0.7794\n",
            "Epoch 110/160\n",
            "118/118 [==============================] - 1s 5ms/step - loss: 0.9235 - accuracy: 0.7815\n",
            "Epoch 111/160\n",
            "118/118 [==============================] - 1s 5ms/step - loss: 0.9167 - accuracy: 0.7827\n",
            "Epoch 112/160\n",
            "118/118 [==============================] - 1s 5ms/step - loss: 0.9100 - accuracy: 0.7847\n",
            "Epoch 113/160\n",
            "118/118 [==============================] - 1s 4ms/step - loss: 0.9034 - accuracy: 0.7868\n",
            "Epoch 114/160\n",
            "118/118 [==============================] - 1s 5ms/step - loss: 0.8969 - accuracy: 0.7882\n",
            "Epoch 115/160\n",
            "118/118 [==============================] - 1s 4ms/step - loss: 0.8905 - accuracy: 0.7898\n",
            "Epoch 116/160\n",
            "118/118 [==============================] - 1s 5ms/step - loss: 0.8841 - accuracy: 0.7909\n",
            "Epoch 117/160\n",
            "118/118 [==============================] - 1s 5ms/step - loss: 0.8779 - accuracy: 0.7928\n",
            "Epoch 118/160\n",
            "118/118 [==============================] - 1s 7ms/step - loss: 0.8717 - accuracy: 0.7944\n",
            "Epoch 119/160\n",
            "118/118 [==============================] - 1s 7ms/step - loss: 0.8656 - accuracy: 0.7958\n",
            "Epoch 120/160\n",
            "118/118 [==============================] - 1s 7ms/step - loss: 0.8595 - accuracy: 0.7976\n",
            "Epoch 121/160\n",
            "118/118 [==============================] - 1s 8ms/step - loss: 0.8535 - accuracy: 0.7995\n",
            "Epoch 122/160\n",
            "118/118 [==============================] - 1s 6ms/step - loss: 0.8476 - accuracy: 0.8010\n",
            "Epoch 123/160\n",
            "118/118 [==============================] - 1s 5ms/step - loss: 0.8417 - accuracy: 0.8025\n",
            "Epoch 124/160\n",
            "118/118 [==============================] - 1s 5ms/step - loss: 0.8359 - accuracy: 0.8041\n",
            "Epoch 125/160\n",
            "118/118 [==============================] - 1s 5ms/step - loss: 0.8302 - accuracy: 0.8055\n",
            "Epoch 126/160\n",
            "118/118 [==============================] - 1s 5ms/step - loss: 0.8245 - accuracy: 0.8069\n",
            "Epoch 127/160\n",
            "118/118 [==============================] - 1s 5ms/step - loss: 0.8188 - accuracy: 0.8086\n",
            "Epoch 128/160\n",
            "118/118 [==============================] - 1s 5ms/step - loss: 0.8133 - accuracy: 0.8096\n",
            "Epoch 129/160\n",
            "118/118 [==============================] - 1s 5ms/step - loss: 0.8078 - accuracy: 0.8106\n",
            "Epoch 130/160\n",
            "118/118 [==============================] - 1s 5ms/step - loss: 0.8023 - accuracy: 0.8122\n",
            "Epoch 131/160\n",
            "118/118 [==============================] - 1s 5ms/step - loss: 0.7969 - accuracy: 0.8133\n",
            "Epoch 132/160\n",
            "118/118 [==============================] - 1s 5ms/step - loss: 0.7915 - accuracy: 0.8145\n",
            "Epoch 133/160\n",
            "118/118 [==============================] - 1s 5ms/step - loss: 0.7862 - accuracy: 0.8159\n",
            "Epoch 134/160\n",
            "118/118 [==============================] - 1s 5ms/step - loss: 0.7810 - accuracy: 0.8171\n",
            "Epoch 135/160\n",
            "118/118 [==============================] - 1s 5ms/step - loss: 0.7758 - accuracy: 0.8184\n",
            "Epoch 136/160\n",
            "118/118 [==============================] - 1s 7ms/step - loss: 0.7706 - accuracy: 0.8199\n",
            "Epoch 137/160\n",
            "118/118 [==============================] - 1s 7ms/step - loss: 0.7655 - accuracy: 0.8210\n",
            "Epoch 138/160\n",
            "118/118 [==============================] - 1s 7ms/step - loss: 0.7605 - accuracy: 0.8224\n",
            "Epoch 139/160\n",
            "118/118 [==============================] - 1s 8ms/step - loss: 0.7555 - accuracy: 0.8235\n",
            "Epoch 140/160\n",
            "118/118 [==============================] - 1s 8ms/step - loss: 0.7506 - accuracy: 0.8245\n",
            "Epoch 141/160\n",
            "118/118 [==============================] - 1s 8ms/step - loss: 0.7457 - accuracy: 0.8258\n",
            "Epoch 142/160\n",
            "118/118 [==============================] - 1s 7ms/step - loss: 0.7409 - accuracy: 0.8269\n",
            "Epoch 143/160\n",
            "118/118 [==============================] - 1s 7ms/step - loss: 0.7361 - accuracy: 0.8281\n",
            "Epoch 144/160\n",
            "118/118 [==============================] - 1s 7ms/step - loss: 0.7314 - accuracy: 0.8292\n",
            "Epoch 145/160\n",
            "118/118 [==============================] - 1s 5ms/step - loss: 0.7267 - accuracy: 0.8305\n",
            "Epoch 146/160\n",
            "118/118 [==============================] - 1s 5ms/step - loss: 0.7221 - accuracy: 0.8316\n",
            "Epoch 147/160\n",
            "118/118 [==============================] - 1s 5ms/step - loss: 0.7175 - accuracy: 0.8325\n",
            "Epoch 148/160\n",
            "118/118 [==============================] - 1s 5ms/step - loss: 0.7130 - accuracy: 0.8332\n",
            "Epoch 149/160\n",
            "118/118 [==============================] - 1s 4ms/step - loss: 0.7085 - accuracy: 0.8343\n",
            "Epoch 150/160\n",
            "118/118 [==============================] - 1s 5ms/step - loss: 0.7041 - accuracy: 0.8353\n",
            "Epoch 151/160\n",
            "118/118 [==============================] - 1s 5ms/step - loss: 0.6997 - accuracy: 0.8361\n",
            "Epoch 152/160\n",
            "118/118 [==============================] - 1s 5ms/step - loss: 0.6954 - accuracy: 0.8370\n",
            "Epoch 153/160\n",
            "118/118 [==============================] - 1s 5ms/step - loss: 0.6912 - accuracy: 0.8378\n",
            "Epoch 154/160\n",
            "118/118 [==============================] - 1s 5ms/step - loss: 0.6869 - accuracy: 0.8388\n",
            "Epoch 155/160\n",
            "118/118 [==============================] - 1s 5ms/step - loss: 0.6828 - accuracy: 0.8396\n",
            "Epoch 156/160\n",
            "118/118 [==============================] - 1s 5ms/step - loss: 0.6787 - accuracy: 0.8407\n",
            "Epoch 157/160\n",
            "118/118 [==============================] - 1s 5ms/step - loss: 0.6746 - accuracy: 0.8414\n",
            "Epoch 158/160\n",
            "118/118 [==============================] - 1s 5ms/step - loss: 0.6706 - accuracy: 0.8422\n",
            "Epoch 159/160\n",
            "118/118 [==============================] - 1s 5ms/step - loss: 0.6666 - accuracy: 0.8432\n",
            "Epoch 160/160\n",
            "118/118 [==============================] - 1s 5ms/step - loss: 0.6627 - accuracy: 0.8443\n"
          ]
        },
        {
          "output_type": "execute_result",
          "data": {
            "text/plain": [
              "<keras.src.callbacks.History at 0x7f4c7a550070>"
            ]
          },
          "metadata": {},
          "execution_count": 11
        }
      ]
    },
    {
      "cell_type": "code",
      "source": [
        "test_loss, test_acc = network.evaluate(test_images, test_labels)\n",
        "print('Test Accuracy: {:.5f} '.format(test_acc))\n",
        "test_acc"
      ],
      "metadata": {
        "colab": {
          "base_uri": "https://localhost:8080/"
        },
        "id": "7O8yfjmSEbp1",
        "outputId": "b4791168-2562-46d6-bd32-1abad080ab8e"
      },
      "execution_count": 12,
      "outputs": [
        {
          "output_type": "stream",
          "name": "stdout",
          "text": [
            "313/313 [==============================] - 1s 2ms/step - loss: 0.6551 - accuracy: 0.8439\n",
            "Test Accuracy: 0.84390 \n"
          ]
        },
        {
          "output_type": "execute_result",
          "data": {
            "text/plain": [
              "0.8439000248908997"
            ]
          },
          "metadata": {},
          "execution_count": 12
        }
      ]
    },
    {
      "cell_type": "code",
      "source": [
        "from keras.utils import plot_model\n",
        "plot_model(network, to_file='model.png')\n",
        "import matplotlib.pyplot as plt\n",
        "history =network.fit(train_images, train_labels, validation_split=0.33,epochs=5, batch_size=512)\n",
        "history_dict = history.history\n",
        "print(history_dict.keys())\n",
        "plt.plot(history.history['accuracy'])\n",
        "plt.plot(history.history['val_accuracy'])\n",
        "plt.title('Model accuracy')\n",
        "plt.ylabel('Accuracy')\n",
        "plt.xlabel('Epoch')\n",
        "plt.legend(['Train', 'Test'], loc='upper left')\n",
        "plt.show()\n",
        "\n",
        "\n",
        "# Plot training & validation loss values\n",
        "plt.plot(history.history['loss'])\n",
        "plt.plot(history.history['val_loss'])\n",
        "plt.title('Model loss')\n",
        "plt.ylabel('Loss')\n",
        "plt.xlabel('Epoch')\n",
        "plt.legend(['Train', 'Test'], loc='upper left')\n",
        "plt.show()"
      ],
      "metadata": {
        "colab": {
          "base_uri": "https://localhost:8080/",
          "height": 1000
        },
        "id": "5DcRognZEnEr",
        "outputId": "3ef71f03-1060-4058-fc19-29b5132cd597"
      },
      "execution_count": 13,
      "outputs": [
        {
          "output_type": "stream",
          "name": "stdout",
          "text": [
            "Epoch 1/5\n",
            "79/79 [==============================] - 1s 18ms/step - loss: 0.6628 - accuracy: 0.8452 - val_loss: 0.6512 - val_accuracy: 0.8451\n",
            "Epoch 2/5\n",
            "79/79 [==============================] - 1s 12ms/step - loss: 0.6602 - accuracy: 0.8457 - val_loss: 0.6489 - val_accuracy: 0.8454\n",
            "Epoch 3/5\n",
            "79/79 [==============================] - 1s 13ms/step - loss: 0.6576 - accuracy: 0.8466 - val_loss: 0.6464 - val_accuracy: 0.8462\n",
            "Epoch 4/5\n",
            "79/79 [==============================] - 1s 12ms/step - loss: 0.6550 - accuracy: 0.8471 - val_loss: 0.6440 - val_accuracy: 0.8468\n",
            "Epoch 5/5\n",
            "79/79 [==============================] - 1s 11ms/step - loss: 0.6524 - accuracy: 0.8478 - val_loss: 0.6415 - val_accuracy: 0.8476\n",
            "dict_keys(['loss', 'accuracy', 'val_loss', 'val_accuracy'])\n"
          ]
        },
        {
          "output_type": "display_data",
          "data": {
            "text/plain": [
              "<Figure size 640x480 with 1 Axes>"
            ],
            "image/png": "[encoded data removed]"
          },
          "metadata": {}
        },
        {
          "output_type": "display_data",
          "data": {
            "text/plain": [
              "<Figure size 640x480 with 1 Axes>"
            ],
            "image/png": "[encoded data removed]"
          },
          "metadata": {}
        }
      ]
    }
  ]
}